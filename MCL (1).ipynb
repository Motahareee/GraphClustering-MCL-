{
 "cells": [
  {
   "cell_type": "markdown",
   "metadata": {},
   "source": [
    "# Markov Clustering Algorithm"
   ]
  },
  {
   "cell_type": "markdown",
   "metadata": {},
   "source": [
    "###### Motahare Mounesan"
   ]
  },
  {
   "cell_type": "markdown",
   "metadata": {},
   "source": [
    "The algorithm : "
   ]
  },
  {
   "cell_type": "code",
   "execution_count": 249,
   "metadata": {},
   "outputs": [],
   "source": [
    "#   G is a graph\n",
    "#   add loops to G                             # see below\n",
    "#   set Γ to some value                        # affects granularity\n",
    "#   set M_1 to be the matrix of random walks on G\n",
    "\n",
    "#   while (change) {\n",
    "#      M_2 =  M_1 * M_1                        #  expansion  \n",
    "#      M_1 =  Γ(M_2)                           #  inflation\n",
    "#      change   =  difference(M_1, M_2)\n",
    "#   }"
   ]
  },
  {
   "cell_type": "markdown",
   "metadata": {},
   "source": [
    "##### 1. Input the Undirected Graph"
   ]
  },
  {
   "cell_type": "code",
   "execution_count": 250,
   "metadata": {},
   "outputs": [],
   "source": [
    "# A \n",
    "Matrix = [[0,1,1,1],\n",
    "         [1,0,0,1],\n",
    "         [1,0,0,0],\n",
    "        [1,1,0,0]]"
   ]
  },
  {
   "cell_type": "code",
   "execution_count": 251,
   "metadata": {},
   "outputs": [],
   "source": [
    "size = len(Matrix)"
   ]
  },
  {
   "cell_type": "markdown",
   "metadata": {},
   "source": [
    "##### 2. Add Self Loops"
   ]
  },
  {
   "cell_type": "code",
   "execution_count": 252,
   "metadata": {},
   "outputs": [],
   "source": [
    "def addSelfLoop(Matrix):\n",
    "    size = len(Matrix)\n",
    "    for i in range(size):\n",
    "        Matrix[i][i] = 1\n",
    "    return Matrix"
   ]
  },
  {
   "cell_type": "markdown",
   "metadata": {},
   "source": [
    "##### 3. Create associated Markov Chain Transition Matrix"
   ]
  },
  {
   "cell_type": "code",
   "execution_count": 253,
   "metadata": {},
   "outputs": [],
   "source": [
    "def createTransition(Matrix):\n",
    "    size = len(Matrix)\n",
    "    Transition = [[0 for i in range(size)] for j in range(size)]\n",
    "    for j in range(size):\n",
    "        sum = 0\n",
    "        for i in range(size):\n",
    "            sum += Matrix[i][j]\n",
    "        for i in range(size):\n",
    "            Transition[i][j] = round(Matrix[i][j]/sum, 2)\n",
    "    return Transition"
   ]
  },
  {
   "cell_type": "markdown",
   "metadata": {},
   "source": [
    "##### 4. Expand by taking the e_th power of the matrix"
   ]
  },
  {
   "cell_type": "code",
   "execution_count": 254,
   "metadata": {},
   "outputs": [],
   "source": [
    "def expand(Transition):\n",
    "    size = len(Transition)\n",
    "    Expansion = [[0 for i in range(size)] for j in range(size)]\n",
    "    for i in range(size):\n",
    "        for j in range(size):\n",
    "            sum = 0\n",
    "            for k in range(size):\n",
    "                sum += Transition[i][k] * Transition[k][j]\n",
    "            Expansion[i][j] = round(sum,2)\n",
    "    return Expansion"
   ]
  },
  {
   "cell_type": "markdown",
   "metadata": {},
   "source": [
    "##### 5. Inflate by taking inflation of the resulting matrix with parameter r"
   ]
  },
  {
   "cell_type": "code",
   "execution_count": 255,
   "metadata": {},
   "outputs": [],
   "source": [
    "def inflate(Expansion, power):\n",
    "    size = len(Expansion)\n",
    "    Inflation = [[0 for i in range(size)] for j in range(size)]\n",
    "    for i in range(size):\n",
    "        for j in range(size):\n",
    "            Inflation[i][j] = math.pow(Expansion[i][j],power)\n",
    "\n",
    "    for j in range(size):\n",
    "        sum = 0\n",
    "        for i in range(size):\n",
    "            sum += Inflation[i][j]\n",
    "        for i in range(size):\n",
    "            Inflation[i][j] = round(Inflation[i][j]/sum, 2)\n",
    "    return Inflation"
   ]
  },
  {
   "cell_type": "code",
   "execution_count": 256,
   "metadata": {},
   "outputs": [],
   "source": [
    "import math\n",
    "def change(Matrix1, Matrix2):\n",
    "    size = len(Matrix1)\n",
    "    change = 0\n",
    "    for i in range(size):\n",
    "        for j in range(size):\n",
    "            if(math.fabs(Matrix1[i][j]-Matrix2[i][j]) > change):\n",
    "                change = math.fabs(Matrix1[i][j]-Matrix2[i][j])\n",
    "    return change"
   ]
  },
  {
   "cell_type": "code",
   "execution_count": 263,
   "metadata": {},
   "outputs": [],
   "source": [
    "def MCL(Matrix):\n",
    "    \n",
    "    Matrix = addSelfLoop(Matrix)\n",
    "    print (pd.DataFrame(Matrix))\n",
    "    Gamma = 2\n",
    "    Transition = createTransition(Matrix)\n",
    "    M1 = Transition\n",
    "    print (\"Transition\")\n",
    "    print (pd.DataFrame(M1))\n",
    "    \n",
    "    counter =1\n",
    "    epsilon = 0.001\n",
    "    change_ = float(\"inf\")\n",
    "    while (change_ > epsilon):\n",
    "        print(\"Iterate :: \", counter,\":::::::::::::::::::::::::::::\")\n",
    "        counter += 1\n",
    "        # M_2 =  M_1 * M_1  #  expansion  \n",
    "        M2 = expand(M1)\n",
    "        print (\"expanded\\n\",pd.DataFrame(M2))\n",
    "        # M_1 =  Γ(M_2)     #  inflation\n",
    "        M1 = inflate(M2, 2)\n",
    "        print (\"inflated\\n\",pd.DataFrame(M1))\n",
    "        # change   =  difference(M_1, M_2)\n",
    "        change_ = change(M1,M2)\n",
    "    return M1"
   ]
  },
  {
   "cell_type": "markdown",
   "metadata": {},
   "source": [
    "# ====================================================================="
   ]
  },
  {
   "cell_type": "markdown",
   "metadata": {},
   "source": [
    "Here is the input matrix which we are going to run the algorihtm on:"
   ]
  },
  {
   "cell_type": "code",
   "execution_count": 264,
   "metadata": {},
   "outputs": [],
   "source": [
    "#          0  1  2  3  4  5  6  7  \n",
    "Matrix = [[0, 1, 0, 1, 0, 0, 0, 0], #0\n",
    "          [1, 0, 1, 1, 0, 1, 0, 0], #1\n",
    "          [0, 1, 0, 1, 1, 0, 0, 0], #2\n",
    "          [1, 1, 1, 0, 0, 0, 0, 0], #3\n",
    "          [0, 0, 1, 0, 0, 1, 1, 1], #4\n",
    "          [0, 1, 0, 0, 1, 0, 1, 0], #5\n",
    "          [0, 0, 0, 0, 1, 1, 0, 1], #6\n",
    "          [0, 0, 0, 0, 1, 0, 1, 0]] #7"
   ]
  },
  {
   "cell_type": "markdown",
   "metadata": {},
   "source": [
    "And the representation of matrix:"
   ]
  },
  {
   "cell_type": "code",
   "execution_count": 265,
   "metadata": {},
   "outputs": [
    {
     "data": {
      "image/png": "[encoded data removed]",
      "text/plain": [
       "<Figure size 432x288 with 1 Axes>"
      ]
     },
     "metadata": {},
     "output_type": "display_data"
    }
   ],
   "source": [
    "import networkx as nx\n",
    "import matplotlib.pyplot as plt\n",
    "my_graph = nx.Graph() \n",
    "my_graph.add_edges_from([\n",
    "                        (0,1),\n",
    "                        (0,3),\n",
    "                        (1,2),\n",
    "                        (1,3),\n",
    "                        (1,5),\n",
    "                        (2,3),\n",
    "                        (2,4),\n",
    "                        (4,5),\n",
    "                        (4,6),\n",
    "                        (4,7),\n",
    "                        (5,6),\n",
    "                        (6,7)])\n",
    "nx.draw(my_graph, with_labels=True, font_weight='bold')"
   ]
  },
  {
   "cell_type": "markdown",
   "metadata": {},
   "source": [
    "Applyin the algorithm:"
   ]
  },
  {
   "cell_type": "code",
   "execution_count": 266,
   "metadata": {},
   "outputs": [
    {
     "name": "stdout",
     "output_type": "stream",
     "text": [
      "   0  1  2  3  4  5  6  7\n",
      "0  1  1  0  1  0  0  0  0\n",
      "1  1  1  1  1  0  1  0  0\n",
      "2  0  1  1  1  1  0  0  0\n",
      "3  1  1  1  1  0  0  0  0\n",
      "4  0  0  1  0  1  1  1  1\n",
      "5  0  1  0  0  1  1  1  0\n",
      "6  0  0  0  0  1  1  1  1\n",
      "7  0  0  0  0  1  0  1  1\n",
      "Transition\n",
      "      0    1     2     3    4     5     6     7\n",
      "0  0.33  0.2  0.00  0.25  0.0  0.00  0.00  0.00\n",
      "1  0.33  0.2  0.25  0.25  0.0  0.25  0.00  0.00\n",
      "2  0.00  0.2  0.25  0.25  0.2  0.00  0.00  0.00\n",
      "3  0.33  0.2  0.25  0.25  0.0  0.00  0.00  0.00\n",
      "4  0.00  0.0  0.25  0.00  0.2  0.25  0.25  0.33\n",
      "5  0.00  0.2  0.00  0.00  0.2  0.25  0.25  0.00\n",
      "6  0.00  0.0  0.00  0.00  0.2  0.25  0.25  0.33\n",
      "7  0.00  0.0  0.00  0.00  0.2  0.00  0.25  0.33\n",
      "Iterate ::  1 :::::::::::::::::::::::::::::\n",
      "expanded\n",
      "       0     1     2     3     4     5     6     7\n",
      "0  0.26  0.16  0.11  0.20  0.00  0.05  0.00  0.00\n",
      "1  0.26  0.26  0.17  0.26  0.10  0.11  0.06  0.00\n",
      "2  0.15  0.14  0.22  0.17  0.09  0.10  0.05  0.07\n",
      "3  0.26  0.21  0.17  0.26  0.05  0.05  0.00  0.00\n",
      "4  0.00  0.10  0.11  0.06  0.26  0.17  0.26  0.26\n",
      "5  0.07  0.09  0.10  0.05  0.14  0.23  0.17  0.15\n",
      "6  0.00  0.05  0.05  0.00  0.21  0.17  0.26  0.26\n",
      "7  0.00  0.00  0.05  0.00  0.16  0.11  0.20  0.26\n",
      "inflated\n",
      "       0     1     2     3     4     5     6     7\n",
      "0  0.29  0.14  0.08  0.19  0.00  0.02  0.00  0.00\n",
      "1  0.29  0.38  0.20  0.32  0.06  0.08  0.02  0.00\n",
      "2  0.10  0.11  0.33  0.14  0.05  0.07  0.01  0.02\n",
      "3  0.29  0.25  0.20  0.32  0.01  0.02  0.00  0.00\n",
      "4  0.00  0.06  0.08  0.02  0.38  0.19  0.32  0.29\n",
      "5  0.02  0.05  0.07  0.01  0.11  0.35  0.14  0.10\n",
      "6  0.00  0.01  0.02  0.00  0.25  0.19  0.32  0.29\n",
      "7  0.00  0.00  0.02  0.00  0.14  0.08  0.19  0.29\n",
      "Iterate ::  2 :::::::::::::::::::::::::::::\n",
      "expanded\n",
      "       0     1     2     3     4     5     6     7\n",
      "0  0.19  0.15  0.12  0.17  0.02  0.03  0.01  0.00\n",
      "1  0.31  0.29  0.24  0.31  0.07  0.10  0.05  0.04\n",
      "2  0.14  0.13  0.18  0.15  0.06  0.07  0.04  0.04\n",
      "3  0.27  0.24  0.21  0.27  0.03  0.06  0.01  0.01\n",
      "4  0.03  0.07  0.10  0.05  0.29  0.23  0.31  0.31\n",
      "5  0.04  0.06  0.07  0.04  0.14  0.19  0.15  0.14\n",
      "6  0.01  0.03  0.05  0.01  0.24  0.20  0.26  0.27\n",
      "7  0.00  0.02  0.03  0.01  0.15  0.12  0.17  0.19\n",
      "inflated\n",
      "       0     1     2     3     4     5     6     7\n",
      "0  0.16  0.12  0.09  0.13  0.00  0.01  0.00  0.00\n",
      "1  0.42  0.44  0.35  0.43  0.03  0.06  0.01  0.01\n",
      "2  0.09  0.09  0.19  0.10  0.02  0.03  0.01  0.01\n",
      "3  0.32  0.30  0.26  0.32  0.00  0.02  0.00  0.00\n",
      "4  0.00  0.03  0.06  0.01  0.43  0.32  0.44  0.42\n",
      "5  0.01  0.02  0.03  0.01  0.10  0.22  0.10  0.09\n",
      "6  0.00  0.00  0.01  0.00  0.30  0.25  0.31  0.32\n",
      "7  0.00  0.00  0.01  0.00  0.12  0.09  0.13  0.16\n",
      "Iterate ::  3 :::::::::::::::::::::::::::::\n",
      "expanded\n",
      "       0     1     2     3     4     5     6     7\n",
      "0  0.13  0.12  0.11  0.12  0.01  0.02  0.00  0.00\n",
      "1  0.42  0.41  0.37  0.42  0.04  0.08  0.03  0.03\n",
      "2  0.10  0.10  0.10  0.10  0.02  0.03  0.02  0.02\n",
      "3  0.30  0.29  0.27  0.30  0.02  0.04  0.01  0.01\n",
      "4  0.02  0.04  0.07  0.03  0.40  0.36  0.41  0.42\n",
      "5  0.02  0.02  0.03  0.02  0.11  0.12  0.11  0.11\n",
      "6  0.00  0.01  0.03  0.01  0.29  0.26  0.29  0.30\n",
      "7  0.00  0.01  0.01  0.00  0.12  0.11  0.12  0.13\n",
      "inflated\n",
      "       0     1     2     3     4     5     6     7\n",
      "0  0.06  0.05  0.05  0.05  0.00  0.00  0.00  0.00\n",
      "1  0.60  0.60  0.57  0.60  0.01  0.03  0.00  0.00\n",
      "2  0.03  0.04  0.04  0.03  0.00  0.00  0.00  0.00\n",
      "3  0.31  0.30  0.31  0.31  0.00  0.01  0.00  0.00\n",
      "4  0.00  0.01  0.02  0.00  0.59  0.56  0.60  0.59\n",
      "5  0.00  0.00  0.00  0.00  0.04  0.06  0.04  0.04\n",
      "6  0.00  0.00  0.00  0.00  0.31  0.29  0.30  0.30\n",
      "7  0.00  0.00  0.00  0.00  0.05  0.05  0.05  0.06\n",
      "Iterate ::  4 :::::::::::::::::::::::::::::\n",
      "expanded\n",
      "       0     1     2     3     4     5     6     7\n",
      "0  0.05  0.05  0.05  0.05  0.00  0.00  0.00  0.00\n",
      "1  0.60  0.59  0.58  0.59  0.01  0.03  0.01  0.01\n",
      "2  0.04  0.04  0.04  0.04  0.00  0.00  0.00  0.00\n",
      "3  0.30  0.30  0.29  0.30  0.00  0.01  0.00  0.00\n",
      "4  0.01  0.01  0.02  0.01  0.59  0.57  0.59  0.59\n",
      "5  0.00  0.00  0.00  0.00  0.04  0.04  0.04  0.04\n",
      "6  0.00  0.00  0.01  0.00  0.30  0.29  0.30  0.30\n",
      "7  0.00  0.00  0.00  0.00  0.05  0.05  0.05  0.05\n",
      "inflated\n",
      "       0     1     2     3     4     5     6     7\n",
      "0  0.01  0.01  0.01  0.01  0.00  0.00  0.00  0.00\n",
      "1  0.79  0.79  0.79  0.79  0.00  0.00  0.00  0.00\n",
      "2  0.00  0.00  0.00  0.00  0.00  0.00  0.00  0.00\n",
      "3  0.20  0.20  0.20  0.20  0.00  0.00  0.00  0.00\n",
      "4  0.00  0.00  0.00  0.00  0.79  0.78  0.79  0.79\n",
      "5  0.00  0.00  0.00  0.00  0.00  0.00  0.00  0.00\n",
      "6  0.00  0.00  0.00  0.00  0.20  0.20  0.20  0.20\n",
      "7  0.00  0.00  0.00  0.00  0.01  0.01  0.01  0.01\n",
      "Iterate ::  5 :::::::::::::::::::::::::::::\n",
      "expanded\n",
      "       0     1     2     3     4     5     6     7\n",
      "0  0.01  0.01  0.01  0.01  0.00  0.00  0.00  0.00\n",
      "1  0.79  0.79  0.79  0.79  0.00  0.00  0.00  0.00\n",
      "2  0.00  0.00  0.00  0.00  0.00  0.00  0.00  0.00\n",
      "3  0.20  0.20  0.20  0.20  0.00  0.00  0.00  0.00\n",
      "4  0.00  0.00  0.00  0.00  0.79  0.78  0.79  0.79\n",
      "5  0.00  0.00  0.00  0.00  0.00  0.00  0.00  0.00\n",
      "6  0.00  0.00  0.00  0.00  0.20  0.20  0.20  0.20\n",
      "7  0.00  0.00  0.00  0.00  0.01  0.01  0.01  0.01\n",
      "inflated\n",
      "       0     1     2     3     4     5     6     7\n",
      "0  0.00  0.00  0.00  0.00  0.00  0.00  0.00  0.00\n",
      "1  0.94  0.94  0.94  0.94  0.00  0.00  0.00  0.00\n",
      "2  0.00  0.00  0.00  0.00  0.00  0.00  0.00  0.00\n",
      "3  0.06  0.06  0.06  0.06  0.00  0.00  0.00  0.00\n",
      "4  0.00  0.00  0.00  0.00  0.94  0.94  0.94  0.94\n",
      "5  0.00  0.00  0.00  0.00  0.00  0.00  0.00  0.00\n",
      "6  0.00  0.00  0.00  0.00  0.06  0.06  0.06  0.06\n",
      "7  0.00  0.00  0.00  0.00  0.00  0.00  0.00  0.00\n",
      "Iterate ::  6 :::::::::::::::::::::::::::::\n",
      "expanded\n",
      "       0     1     2     3     4     5     6     7\n",
      "0  0.00  0.00  0.00  0.00  0.00  0.00  0.00  0.00\n",
      "1  0.94  0.94  0.94  0.94  0.00  0.00  0.00  0.00\n",
      "2  0.00  0.00  0.00  0.00  0.00  0.00  0.00  0.00\n",
      "3  0.06  0.06  0.06  0.06  0.00  0.00  0.00  0.00\n",
      "4  0.00  0.00  0.00  0.00  0.94  0.94  0.94  0.94\n",
      "5  0.00  0.00  0.00  0.00  0.00  0.00  0.00  0.00\n",
      "6  0.00  0.00  0.00  0.00  0.06  0.06  0.06  0.06\n",
      "7  0.00  0.00  0.00  0.00  0.00  0.00  0.00  0.00\n",
      "inflated\n",
      "      0    1    2    3    4    5    6    7\n",
      "0  0.0  0.0  0.0  0.0  0.0  0.0  0.0  0.0\n",
      "1  1.0  1.0  1.0  1.0  0.0  0.0  0.0  0.0\n",
      "2  0.0  0.0  0.0  0.0  0.0  0.0  0.0  0.0\n",
      "3  0.0  0.0  0.0  0.0  0.0  0.0  0.0  0.0\n",
      "4  0.0  0.0  0.0  0.0  1.0  1.0  1.0  1.0\n",
      "5  0.0  0.0  0.0  0.0  0.0  0.0  0.0  0.0\n",
      "6  0.0  0.0  0.0  0.0  0.0  0.0  0.0  0.0\n",
      "7  0.0  0.0  0.0  0.0  0.0  0.0  0.0  0.0\n",
      "Iterate ::  7 :::::::::::::::::::::::::::::\n",
      "expanded\n",
      "      0    1    2    3    4    5    6    7\n",
      "0  0.0  0.0  0.0  0.0  0.0  0.0  0.0  0.0\n",
      "1  1.0  1.0  1.0  1.0  0.0  0.0  0.0  0.0\n",
      "2  0.0  0.0  0.0  0.0  0.0  0.0  0.0  0.0\n",
      "3  0.0  0.0  0.0  0.0  0.0  0.0  0.0  0.0\n",
      "4  0.0  0.0  0.0  0.0  1.0  1.0  1.0  1.0\n",
      "5  0.0  0.0  0.0  0.0  0.0  0.0  0.0  0.0\n",
      "6  0.0  0.0  0.0  0.0  0.0  0.0  0.0  0.0\n",
      "7  0.0  0.0  0.0  0.0  0.0  0.0  0.0  0.0\n",
      "inflated\n",
      "      0    1    2    3    4    5    6    7\n",
      "0  0.0  0.0  0.0  0.0  0.0  0.0  0.0  0.0\n",
      "1  1.0  1.0  1.0  1.0  0.0  0.0  0.0  0.0\n",
      "2  0.0  0.0  0.0  0.0  0.0  0.0  0.0  0.0\n",
      "3  0.0  0.0  0.0  0.0  0.0  0.0  0.0  0.0\n",
      "4  0.0  0.0  0.0  0.0  1.0  1.0  1.0  1.0\n",
      "5  0.0  0.0  0.0  0.0  0.0  0.0  0.0  0.0\n",
      "6  0.0  0.0  0.0  0.0  0.0  0.0  0.0  0.0\n",
      "7  0.0  0.0  0.0  0.0  0.0  0.0  0.0  0.0\n"
     ]
    },
    {
     "data": {
      "text/plain": [
       "[[0.0, 0.0, 0.0, 0.0, 0.0, 0.0, 0.0, 0.0],\n",
       " [1.0, 1.0, 1.0, 1.0, 0.0, 0.0, 0.0, 0.0],\n",
       " [0.0, 0.0, 0.0, 0.0, 0.0, 0.0, 0.0, 0.0],\n",
       " [0.0, 0.0, 0.0, 0.0, 0.0, 0.0, 0.0, 0.0],\n",
       " [0.0, 0.0, 0.0, 0.0, 1.0, 1.0, 1.0, 1.0],\n",
       " [0.0, 0.0, 0.0, 0.0, 0.0, 0.0, 0.0, 0.0],\n",
       " [0.0, 0.0, 0.0, 0.0, 0.0, 0.0, 0.0, 0.0],\n",
       " [0.0, 0.0, 0.0, 0.0, 0.0, 0.0, 0.0, 0.0]]"
      ]
     },
     "execution_count": 266,
     "metadata": {},
     "output_type": "execute_result"
    }
   ],
   "source": [
    "MCL(Matrix)"
   ]
  },
  {
   "cell_type": "markdown",
   "metadata": {},
   "source": [
    "Algorithm converged after 7 steps, and the clusters are as follows:\n",
    "    {0,1,2,3}\n",
    "    {4,5,6,7}"
   ]
  },
  {
   "cell_type": "markdown",
   "metadata": {},
   "source": [
    "I also run it with the python library to make sure the results are true:"
   ]
  },
  {
   "cell_type": "code",
   "execution_count": 268,
   "metadata": {},
   "outputs": [
    {
     "data": {
      "text/plain": [
       "array([[0., 0., 0., 0., 0., 0., 0., 0.],\n",
       "       [1., 1., 1., 1., 0., 0., 0., 0.],\n",
       "       [0., 0., 0., 0., 0., 0., 0., 0.],\n",
       "       [0., 0., 0., 0., 0., 0., 0., 0.],\n",
       "       [0., 0., 0., 0., 1., 1., 1., 1.],\n",
       "       [0., 0., 0., 0., 0., 0., 0., 0.],\n",
       "       [0., 0., 0., 0., 0., 0., 0., 0.],\n",
       "       [0., 0., 0., 0., 0., 0., 0., 0.]])"
      ]
     },
     "execution_count": 268,
     "metadata": {},
     "output_type": "execute_result"
    }
   ],
   "source": [
    "import markov_clustering as mc\n",
    "import numpy as np\n",
    "result = mc.run_mcl(np.array(Matrix))  \n",
    "result"
   ]
  },
  {
   "cell_type": "code",
   "execution_count": null,
   "metadata": {},
   "outputs": [],
   "source": []
  }
 ],
 "metadata": {
  "kernelspec": {
   "display_name": "Python 3",
   "language": "python",
   "name": "python3"
  },
  "language_info": {
   "codemirror_mode": {
    "name": "ipython",
    "version": 3
   },
   "file_extension": ".py",
   "mimetype": "text/x-python",
   "name": "python",
   "nbconvert_exporter": "python",
   "pygments_lexer": "ipython3",
   "version": "3.6.8"
  }
 },
 "nbformat": 4,
 "nbformat_minor": 2
}
